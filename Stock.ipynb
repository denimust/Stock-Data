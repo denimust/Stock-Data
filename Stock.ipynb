{
 "cells": [
  {
   "cell_type": "code",
   "execution_count": 16,
   "metadata": {},
   "outputs": [],
   "source": [
    "from pandas_datareader import data\n",
    "import datetime\n",
    "from bokeh.plotting import figure, show, output_file\n",
    "from bokeh.embed import components\n",
    "from bokeh.resources import CDN\n",
    "\n",
    "\n",
    "start=datetime.datetime(2016,3,1)\n",
    "end=datetime.datetime(2016,3,10)\n",
    "\n",
    "df=data.DataReader(name=\"GOOG\", data_source='yahoo',start=start,end=end)\n",
    "df\n",
    "date_increase=df.index[df.Close > df.Open]\n",
    "date_decreased=df.index[df.Close < df.Open]"
   ]
  },
  {
   "cell_type": "code",
   "execution_count": 17,
   "metadata": {},
   "outputs": [],
   "source": [
    "def inc_dec(c,o):\n",
    "        if c> o:\n",
    "            value=\"Increase\"\n",
    "        elif c<o:\n",
    "            value=\"Decrease\"\n",
    "        else:\n",
    "            value=\"Equal\"\n",
    "        return value\n",
    "            \n",
    "            \n",
    "df[\"Status\"]=[inc_dec(c,o) for c,o in zip(df.Close, df.Open)]\n",
    "df[\"Middle\"]=(df.Open+df.Close)/2\n",
    "df[\"Height\"]=abs(df.Close-df.Open)"
   ]
  },
  {
   "cell_type": "code",
   "execution_count": 24,
   "metadata": {},
   "outputs": [],
   "source": [
    "p=figure(x_axis_type='datetime', width=1000, height=300, sizing_mode='scale_width')\n",
    "p.grid.grid_line_alpha=0.3\n",
    "\n",
    "p.segment(df.index, df.High, df.index, df.Low, color=\"black\")\n",
    "p.title.text=\"Candlestick_Chart\"\n",
    "hours_12=12*60*60*1000\n",
    "p.rect(df.index[df.Status==\"Increase\"], df.Middle[df.Status==\"Increase\"], hours_12, df.Height[df.Status==\"Increase\"], fill_color='green', \n",
    "       line_color=\"black\")\n",
    "p.rect(df.index[df.Status==\"Decrease\"], df.Middle[df.Status==\"Decrease\"], hours_12, df.Height[df.Status==\"Decrease\"], fill_color='red', \n",
    "       line_color=\"black\")\n",
    "\n",
    "script1, div1 = components(p)\n",
    "\n",
    "cdn_js=CDN.js_files\n",
    "\n",
    "\n",
    "output_file(\"CS.html\")\n",
    "show(p)"
   ]
  },
  {
   "cell_type": "code",
   "execution_count": 20,
   "metadata": {},
   "outputs": [
    {
     "data": {
      "text/plain": [
       "'https://cdn.pydata.org/bokeh/release/bokeh-1.4.0.min.js'"
      ]
     },
     "execution_count": 20,
     "metadata": {},
     "output_type": "execute_result"
    }
   ],
   "source": []
  },
  {
   "cell_type": "code",
   "execution_count": 23,
   "metadata": {},
   "outputs": [
    {
     "data": {
      "text/plain": [
       "[]"
      ]
     },
     "execution_count": 23,
     "metadata": {},
     "output_type": "execute_result"
    }
   ],
   "source": []
  },
  {
   "cell_type": "code",
   "execution_count": null,
   "metadata": {},
   "outputs": [],
   "source": []
  },
  {
   "cell_type": "code",
   "execution_count": null,
   "metadata": {},
   "outputs": [],
   "source": []
  }
 ],
 "metadata": {
  "kernelspec": {
   "display_name": "Python 3",
   "language": "python",
   "name": "python3"
  },
  "language_info": {
   "codemirror_mode": {
    "name": "ipython",
    "version": 3
   },
   "file_extension": ".py",
   "mimetype": "text/x-python",
   "name": "python",
   "nbconvert_exporter": "python",
   "pygments_lexer": "ipython3",
   "version": "3.7.2"
  }
 },
 "nbformat": 4,
 "nbformat_minor": 2
}
